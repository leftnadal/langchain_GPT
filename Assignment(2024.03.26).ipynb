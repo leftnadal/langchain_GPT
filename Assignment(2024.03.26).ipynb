{
 "cells": [
  {
   "cell_type": "code",
   "execution_count": 6,
   "metadata": {},
   "outputs": [],
   "source": [
    "from langchain.chat_models import ChatOpenAI\n",
    "from langchain.prompts.few_shot import FewShotChatMessagePromptTemplate\n",
    "from langchain.callbacks import StreamingStdOutCallbackHandler\n",
    "from langchain.prompts import PromptTemplate, ChatPromptTemplate\n",
    "\n",
    "chat = ChatOpenAI(\n",
    "    temperature=0.1,\n",
    "    streaming=True,\n",
    "    callbacks=[\n",
    "        StreamingStdOutCallbackHandler(),\n",
    "    ],\n",
    ")\n"
   ]
  },
  {
   "cell_type": "code",
   "execution_count": 9,
   "metadata": {},
   "outputs": [
    {
     "name": "stdout",
     "output_type": "stream",
     "text": [
      "\n",
      "        Here is what I know:\n",
      "            Director: Peyton Reed\n",
      "            Cast: Paul Rudd, Evangeline Lilly, Corey Stoll, Michael Douglas\n",
      "            Budget: Approximately $130 million\n",
      "            Box Office Revenue: Over $500 million worldwide\n",
      "            Genre: Action, Sci-Fi\n",
      "            Synopsis: \"Ant-Man\" follows the story of Scott Lang, a master thief who becomes the new Ant-Man under the mentorship of Dr. Hank Pym. Using a suit that allows him to shrink in size but increase in strength, Scott must embrace his inner hero and help Dr. Pym protect the Ant-Man technology from falling into the wrong hands."
     ]
    },
    {
     "data": {
      "text/plain": [
       "AIMessageChunk(content='\\n        Here is what I know:\\n            Director: Peyton Reed\\n            Cast: Paul Rudd, Evangeline Lilly, Corey Stoll, Michael Douglas\\n            Budget: Approximately $130 million\\n            Box Office Revenue: Over $500 million worldwide\\n            Genre: Action, Sci-Fi\\n            Synopsis: \"Ant-Man\" follows the story of Scott Lang, a master thief who becomes the new Ant-Man under the mentorship of Dr. Hank Pym. Using a suit that allows him to shrink in size but increase in strength, Scott must embrace his inner hero and help Dr. Pym protect the Ant-Man technology from falling into the wrong hands.')"
      ]
     },
     "execution_count": 9,
     "metadata": {},
     "output_type": "execute_result"
    }
   ],
   "source": [
    "examples = [\n",
    "    {\n",
    "        \"Movie\": \"Parasite\",\n",
    "        \"answer\": \"\"\"\n",
    "        Here is what I know:\n",
    "        Movie director: Bong Joon-ho\n",
    "        Cast: Song Kang-ho, Lee Sun-kyun, Cho Yeo-jeong, Choi Woo-shik, Park So-dam\n",
    "        Budget: Approximately 110 billion Korean won (around 10 million USD)\n",
    "        Genre: Drama, Black Comedy, Thriller\n",
    "        Synopsis: \"Parasite,\" directed by Bong Joon-ho, portrays the story of a poor family infiltrating the lives of a wealthy household, leading to a series of events that highlight social inequality and class conflicts in a satirical manner.\n",
    "\n",
    "        \"\"\",\n",
    "    },\n",
    "    {\n",
    "        \"Movie\": \"Iron Man\",\n",
    "        \"answer\": \"\"\"\n",
    "            Director: Jon Favreau\n",
    "            Cast: Robert Downey Jr., Gwyneth Paltrow, Terrence Howard, Jeff Bridges\n",
    "            Budget: Approximately $140 million\n",
    "            Box Office Revenue: Over $585 million worldwide\n",
    "            Genre: Action, Sci-Fi\n",
    "            Synopsis: \"Iron Man\" tells the story of Tony Stark, a wealthy industrialist and genius inventor who is kidnapped and forced to build a devastating weapon. Instead, he creates a high-tech suit of armor and escapes captivity. Upon his return, he vows to protect the world as the armored superhero known as Iron Man.\n",
    "        \"\"\",\n",
    "    },\n",
    "    {\n",
    "        \"Movie\": \"Top Gun\",\n",
    "        \"answer\": \"\"\"\n",
    "        I know this:\n",
    "            Director: Tony Scott\n",
    "            Cast: Tom Cruise, Kelly McGillis, Val Kilmer, Anthony Edwards, Tom Skerritt\n",
    "            Budget: Approximately $15 million\n",
    "            Box Office Revenue: Over $356 million worldwide\n",
    "            Genre: Action, Drama\n",
    "            Synopsis: \"Top Gun\" follows the story of Pete \"Maverick\" Mitchell, a talented but reckless fighter pilot who attends the elite Top Gun Naval Fighter Weapons School. Alongside his fellow pilots, Maverick competes for supremacy in the air while also dealing with personal and professional challenges, including a romantic entanglement with his instructor, Charlie.\n",
    "        \"\"\",\n",
    "    },\n",
    "]\n",
    "\n",
    "example_prompt = ChatPromptTemplate.from_messages([\n",
    "    (\"human\",\"What do you know about {Movie}?\"),\n",
    "    (\"ai\", \"{answer}\")])\n",
    "\n",
    "example_prompt = FewShotChatMessagePromptTemplate(\n",
    "    example_prompt=example_prompt,\n",
    "    examples=examples,\n",
    ")\n",
    "\n",
    "final_prompt = ChatPromptTemplate.from_messages(\n",
    "    [\n",
    "        (\"system\", \"You are a marketing expert of movie, you give short answers.\"),\n",
    "        example_prompt,\n",
    "        (\"human\", \"What do you know about {Movie}?\")\n",
    "    ]\n",
    ")\n",
    "\n",
    "chain = final_prompt | chat\n",
    "\n",
    "chain.invoke({\"Movie\" : \"Antman\"})"
   ]
  },
  {
   "cell_type": "code",
   "execution_count": null,
   "metadata": {},
   "outputs": [],
   "source": []
  }
 ],
 "metadata": {
  "kernelspec": {
   "display_name": "env",
   "language": "python",
   "name": "python3"
  },
  "language_info": {
   "codemirror_mode": {
    "name": "ipython",
    "version": 3
   },
   "file_extension": ".py",
   "mimetype": "text/x-python",
   "name": "python",
   "nbconvert_exporter": "python",
   "pygments_lexer": "ipython3",
   "version": "3.11.6"
  }
 },
 "nbformat": 4,
 "nbformat_minor": 2
}
