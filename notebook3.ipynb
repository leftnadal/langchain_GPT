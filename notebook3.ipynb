{
 "cells": [
  {
   "cell_type": "code",
   "execution_count": 3,
   "metadata": {},
   "outputs": [],
   "source": [
    "from langchain.chat_models import ChatOpenAI\n",
    "from langchain.prompts import ChatPromptTemplate\n",
    "from langchain.callbacks import StreamingStdOutCallbackHandler\n",
    "\n",
    "chat = ChatOpenAI(\n",
    "    temperature= 0.1,\n",
    "    streaming=True,\n",
    "    callbacks=[StreamingStdOutCallbackHandler(),],\n",
    ")\n",
    "\n",
    "poet_prompt = ChatPromptTemplate.from_messages(\n",
    "    [\n",
    "        (\"system\", \"Your jobs are poet and computer developer. You usually make a poem about computerlanguage\"),\n",
    "        (\"human\", \"{computer_lauguage}\"),\n",
    "    ]\n",
    ")\n",
    "\n",
    "poet_chain = poet_prompt | chat"
   ]
  },
  {
   "cell_type": "code",
   "execution_count": 4,
   "metadata": {},
   "outputs": [
    {
     "name": "stdout",
     "output_type": "stream",
     "text": [
      "In the world of code, where languages abound,\n",
      "Python stands out, with elegance profound.\n",
      "Its syntax is clean, its readability clear,\n",
      "Making it a favorite for many a peer.\n",
      "\n",
      "With indentation as its guiding light,\n",
      "Python code is a beautiful sight.\n",
      "From data structures to functions and more,\n",
      "Python's versatility we can't ignore.\n",
      "\n",
      "From web development to data science too,\n",
      "Python's applications are vast and true.\n",
      "So let's raise a toast to this language so fine,\n",
      "Python, you'll always be a favorite of mine.This poem beautifully captures the essence of Python programming language. The poet praises Python for its elegance, readability, and versatility, highlighting its clean syntax and the importance of indentation in writing Python code. The poem also acknowledges the wide range of applications of Python, from web development to data science, making it a favorite among programmers. The overall tone of the poem is celebratory and appreciative of Python's strengths and contributions to the world of coding. The use of rhyme and rhythm adds to the charm of the poem, making it an enjoyable read for anyone familiar with Python or interested in programming languages."
     ]
    },
    {
     "data": {
      "text/plain": [
       "AIMessageChunk(content=\"This poem beautifully captures the essence of Python programming language. The poet praises Python for its elegance, readability, and versatility, highlighting its clean syntax and the importance of indentation in writing Python code. The poem also acknowledges the wide range of applications of Python, from web development to data science, making it a favorite among programmers. The overall tone of the poem is celebratory and appreciative of Python's strengths and contributions to the world of coding. The use of rhyme and rhythm adds to the charm of the poem, making it an enjoyable read for anyone familiar with Python or interested in programming languages.\")"
      ]
     },
     "execution_count": 4,
     "metadata": {},
     "output_type": "execute_result"
    }
   ],
   "source": [
    "critic_prompt = ChatPromptTemplate.from_messages(\n",
    "    [\n",
    "        (\"system\", \"You are critic about poem. When you see the poem, You make to explain the poem\"),\n",
    "        (\"human\", \"{poem}\"),\n",
    "    ]\n",
    ")\n",
    "\n",
    "critic_chain = critic_prompt | chat\n",
    "\n",
    "final_chain = {\"poem\" : poet_chain} | critic_chain\n",
    "\n",
    "final_chain.invoke({\"computer_lauguage\": \"python\"})"
   ]
  }
 ],
 "metadata": {
  "kernelspec": {
   "display_name": "env",
   "language": "python",
   "name": "python3"
  },
  "language_info": {
   "codemirror_mode": {
    "name": "ipython",
    "version": 3
   },
   "file_extension": ".py",
   "mimetype": "text/x-python",
   "name": "python",
   "nbconvert_exporter": "python",
   "pygments_lexer": "ipython3",
   "version": "3.11.6"
  }
 },
 "nbformat": 4,
 "nbformat_minor": 2
}
